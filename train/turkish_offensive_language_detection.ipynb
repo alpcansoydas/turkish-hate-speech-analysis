{
  "nbformat": 4,
  "nbformat_minor": 0,
  "metadata": {
    "colab": {
      "provenance": []
    },
    "kernelspec": {
      "name": "python3",
      "display_name": "Python 3"
    },
    "language_info": {
      "name": "python"
    },
    "accelerator": "GPU",
    "gpuClass": "standard"
  },
  "cells": [
    {
      "cell_type": "code",
      "execution_count": 26,
      "metadata": {
        "id": "c7MaeopOR0oX",
        "colab": {
          "base_uri": "https://localhost:8080/"
        },
        "outputId": "ac9b9801-7ec5-4767-9902-621dbc97634a"
      },
      "outputs": [
        {
          "output_type": "stream",
          "name": "stdout",
          "text": [
            "Drive already mounted at /content/drive; to attempt to forcibly remount, call drive.mount(\"/content/drive\", force_remount=True).\n"
          ]
        }
      ],
      "source": [
        "from google.colab import drive\n",
        "drive.mount('/content/drive')"
      ]
    },
    {
      "cell_type": "code",
      "source": [
        "!pip install transformers"
      ],
      "metadata": {
        "id": "ynX8okJnR5fI",
        "colab": {
          "base_uri": "https://localhost:8080/"
        },
        "outputId": "9f27abb2-1c17-4f1b-9a09-562ff9915568"
      },
      "execution_count": 27,
      "outputs": [
        {
          "output_type": "stream",
          "name": "stdout",
          "text": [
            "Looking in indexes: https://pypi.org/simple, https://us-python.pkg.dev/colab-wheels/public/simple/\n",
            "Requirement already satisfied: transformers in /usr/local/lib/python3.9/dist-packages (4.28.1)\n",
            "Requirement already satisfied: pyyaml>=5.1 in /usr/local/lib/python3.9/dist-packages (from transformers) (6.0)\n",
            "Requirement already satisfied: packaging>=20.0 in /usr/local/lib/python3.9/dist-packages (from transformers) (23.1)\n",
            "Requirement already satisfied: huggingface-hub<1.0,>=0.11.0 in /usr/local/lib/python3.9/dist-packages (from transformers) (0.14.0)\n",
            "Requirement already satisfied: numpy>=1.17 in /usr/local/lib/python3.9/dist-packages (from transformers) (1.22.4)\n",
            "Requirement already satisfied: filelock in /usr/local/lib/python3.9/dist-packages (from transformers) (3.11.0)\n",
            "Requirement already satisfied: requests in /usr/local/lib/python3.9/dist-packages (from transformers) (2.27.1)\n",
            "Requirement already satisfied: tokenizers!=0.11.3,<0.14,>=0.11.1 in /usr/local/lib/python3.9/dist-packages (from transformers) (0.13.3)\n",
            "Requirement already satisfied: tqdm>=4.27 in /usr/local/lib/python3.9/dist-packages (from transformers) (4.65.0)\n",
            "Requirement already satisfied: regex!=2019.12.17 in /usr/local/lib/python3.9/dist-packages (from transformers) (2022.10.31)\n",
            "Requirement already satisfied: fsspec in /usr/local/lib/python3.9/dist-packages (from huggingface-hub<1.0,>=0.11.0->transformers) (2023.4.0)\n",
            "Requirement already satisfied: typing-extensions>=3.7.4.3 in /usr/local/lib/python3.9/dist-packages (from huggingface-hub<1.0,>=0.11.0->transformers) (4.5.0)\n",
            "Requirement already satisfied: certifi>=2017.4.17 in /usr/local/lib/python3.9/dist-packages (from requests->transformers) (2022.12.7)\n",
            "Requirement already satisfied: urllib3<1.27,>=1.21.1 in /usr/local/lib/python3.9/dist-packages (from requests->transformers) (1.26.15)\n",
            "Requirement already satisfied: idna<4,>=2.5 in /usr/local/lib/python3.9/dist-packages (from requests->transformers) (3.4)\n",
            "Requirement already satisfied: charset-normalizer~=2.0.0 in /usr/local/lib/python3.9/dist-packages (from requests->transformers) (2.0.12)\n"
          ]
        }
      ]
    },
    {
      "cell_type": "code",
      "source": [
        "# Import libraries\n",
        "import numpy as np\n",
        "import pandas as pd\n",
        "import time\n",
        "import matplotlib.pyplot as plt\n",
        "import torch\n",
        "import torch.nn as nn\n",
        "import transformers\n",
        "from transformers import AutoTokenizer, AutoModel, BertTokenizerFast\n",
        "device = 'cuda'"
      ],
      "metadata": {
        "id": "NfP1HvUVR5dI"
      },
      "execution_count": 28,
      "outputs": []
    },
    {
      "cell_type": "code",
      "source": [
        "# Import datasets\n",
        "train = pd.read_csv('/content/drive/MyDrive/sentiment_analysis/turkish-offensive-lang-dataset/train.csv')\n",
        "test = pd.read_csv('/content/drive/MyDrive/sentiment_analysis/turkish-offensive-lang-dataset/test.csv')\n",
        "valid = pd.read_csv('/content/drive/MyDrive/sentiment_analysis/turkish-offensive-lang-dataset/valid.csv')"
      ],
      "metadata": {
        "id": "d7Xg_TaQR5a5"
      },
      "execution_count": 29,
      "outputs": []
    },
    {
      "cell_type": "code",
      "source": [
        "frames = [train, test, valid]\n",
        "df = pd.concat(frames)\n",
        "df"
      ],
      "metadata": {
        "id": "hrjToRDVR5Yo",
        "colab": {
          "base_uri": "https://localhost:8080/",
          "height": 424
        },
        "outputId": "cd0f347e-9901-4661-dae7-fb618fc4a29f"
      },
      "execution_count": 30,
      "outputs": [
        {
          "output_type": "execute_result",
          "data": {
            "text/plain": [
              "           id                                               text  label\n",
              "0     26418.0  Gerçekten sizin hikayelerinizi izleyerek mi ye...      0\n",
              "1     14473.0            @USER Çoook çok bi baklava bi sen zaten      0\n",
              "2     16107.0  1) Sn. DÜKEL; Atatürk'ün, Karma E. M. ile başl...      0\n",
              "3     45908.0  Konfederasyonumuzun Aile ve Sosyal Politikalar...      0\n",
              "4     12878.0  Hakemler tarih yazıyorlar / 9 kişiye karşı 3-2...      1\n",
              "...       ...                                                ...    ...\n",
              "1751  39603.0  Bu ödül sunan kızı kim giydirdiyse, kızın en b...      0\n",
              "1752  26675.0  Bunu sana beddua olarak etmiyorum bunlar ilerd...      0\n",
              "1753  17172.0  CHP'liler sandıkları bırakmıyor üstüne oturmuş...      1\n",
              "1754  42884.0       karanlığın içinde yalnız kalsam ne oluuuuurr      0\n",
              "1755  29184.0  @USER Ne yalan söyleyeyim bu haftalıkta fitil ...      0\n",
              "\n",
              "[53005 rows x 3 columns]"
            ],
            "text/html": [
              "\n",
              "  <div id=\"df-00ea17bd-b003-4f15-8c4a-ae86128848d0\">\n",
              "    <div class=\"colab-df-container\">\n",
              "      <div>\n",
              "<style scoped>\n",
              "    .dataframe tbody tr th:only-of-type {\n",
              "        vertical-align: middle;\n",
              "    }\n",
              "\n",
              "    .dataframe tbody tr th {\n",
              "        vertical-align: top;\n",
              "    }\n",
              "\n",
              "    .dataframe thead th {\n",
              "        text-align: right;\n",
              "    }\n",
              "</style>\n",
              "<table border=\"1\" class=\"dataframe\">\n",
              "  <thead>\n",
              "    <tr style=\"text-align: right;\">\n",
              "      <th></th>\n",
              "      <th>id</th>\n",
              "      <th>text</th>\n",
              "      <th>label</th>\n",
              "    </tr>\n",
              "  </thead>\n",
              "  <tbody>\n",
              "    <tr>\n",
              "      <th>0</th>\n",
              "      <td>26418.0</td>\n",
              "      <td>Gerçekten sizin hikayelerinizi izleyerek mi ye...</td>\n",
              "      <td>0</td>\n",
              "    </tr>\n",
              "    <tr>\n",
              "      <th>1</th>\n",
              "      <td>14473.0</td>\n",
              "      <td>@USER Çoook çok bi baklava bi sen zaten</td>\n",
              "      <td>0</td>\n",
              "    </tr>\n",
              "    <tr>\n",
              "      <th>2</th>\n",
              "      <td>16107.0</td>\n",
              "      <td>1) Sn. DÜKEL; Atatürk'ün, Karma E. M. ile başl...</td>\n",
              "      <td>0</td>\n",
              "    </tr>\n",
              "    <tr>\n",
              "      <th>3</th>\n",
              "      <td>45908.0</td>\n",
              "      <td>Konfederasyonumuzun Aile ve Sosyal Politikalar...</td>\n",
              "      <td>0</td>\n",
              "    </tr>\n",
              "    <tr>\n",
              "      <th>4</th>\n",
              "      <td>12878.0</td>\n",
              "      <td>Hakemler tarih yazıyorlar / 9 kişiye karşı 3-2...</td>\n",
              "      <td>1</td>\n",
              "    </tr>\n",
              "    <tr>\n",
              "      <th>...</th>\n",
              "      <td>...</td>\n",
              "      <td>...</td>\n",
              "      <td>...</td>\n",
              "    </tr>\n",
              "    <tr>\n",
              "      <th>1751</th>\n",
              "      <td>39603.0</td>\n",
              "      <td>Bu ödül sunan kızı kim giydirdiyse, kızın en b...</td>\n",
              "      <td>0</td>\n",
              "    </tr>\n",
              "    <tr>\n",
              "      <th>1752</th>\n",
              "      <td>26675.0</td>\n",
              "      <td>Bunu sana beddua olarak etmiyorum bunlar ilerd...</td>\n",
              "      <td>0</td>\n",
              "    </tr>\n",
              "    <tr>\n",
              "      <th>1753</th>\n",
              "      <td>17172.0</td>\n",
              "      <td>CHP'liler sandıkları bırakmıyor üstüne oturmuş...</td>\n",
              "      <td>1</td>\n",
              "    </tr>\n",
              "    <tr>\n",
              "      <th>1754</th>\n",
              "      <td>42884.0</td>\n",
              "      <td>karanlığın içinde yalnız kalsam ne oluuuuurr</td>\n",
              "      <td>0</td>\n",
              "    </tr>\n",
              "    <tr>\n",
              "      <th>1755</th>\n",
              "      <td>29184.0</td>\n",
              "      <td>@USER Ne yalan söyleyeyim bu haftalıkta fitil ...</td>\n",
              "      <td>0</td>\n",
              "    </tr>\n",
              "  </tbody>\n",
              "</table>\n",
              "<p>53005 rows × 3 columns</p>\n",
              "</div>\n",
              "      <button class=\"colab-df-convert\" onclick=\"convertToInteractive('df-00ea17bd-b003-4f15-8c4a-ae86128848d0')\"\n",
              "              title=\"Convert this dataframe to an interactive table.\"\n",
              "              style=\"display:none;\">\n",
              "        \n",
              "  <svg xmlns=\"http://www.w3.org/2000/svg\" height=\"24px\"viewBox=\"0 0 24 24\"\n",
              "       width=\"24px\">\n",
              "    <path d=\"M0 0h24v24H0V0z\" fill=\"none\"/>\n",
              "    <path d=\"M18.56 5.44l.94 2.06.94-2.06 2.06-.94-2.06-.94-.94-2.06-.94 2.06-2.06.94zm-11 1L8.5 8.5l.94-2.06 2.06-.94-2.06-.94L8.5 2.5l-.94 2.06-2.06.94zm10 10l.94 2.06.94-2.06 2.06-.94-2.06-.94-.94-2.06-.94 2.06-2.06.94z\"/><path d=\"M17.41 7.96l-1.37-1.37c-.4-.4-.92-.59-1.43-.59-.52 0-1.04.2-1.43.59L10.3 9.45l-7.72 7.72c-.78.78-.78 2.05 0 2.83L4 21.41c.39.39.9.59 1.41.59.51 0 1.02-.2 1.41-.59l7.78-7.78 2.81-2.81c.8-.78.8-2.07 0-2.86zM5.41 20L4 18.59l7.72-7.72 1.47 1.35L5.41 20z\"/>\n",
              "  </svg>\n",
              "      </button>\n",
              "      \n",
              "  <style>\n",
              "    .colab-df-container {\n",
              "      display:flex;\n",
              "      flex-wrap:wrap;\n",
              "      gap: 12px;\n",
              "    }\n",
              "\n",
              "    .colab-df-convert {\n",
              "      background-color: #E8F0FE;\n",
              "      border: none;\n",
              "      border-radius: 50%;\n",
              "      cursor: pointer;\n",
              "      display: none;\n",
              "      fill: #1967D2;\n",
              "      height: 32px;\n",
              "      padding: 0 0 0 0;\n",
              "      width: 32px;\n",
              "    }\n",
              "\n",
              "    .colab-df-convert:hover {\n",
              "      background-color: #E2EBFA;\n",
              "      box-shadow: 0px 1px 2px rgba(60, 64, 67, 0.3), 0px 1px 3px 1px rgba(60, 64, 67, 0.15);\n",
              "      fill: #174EA6;\n",
              "    }\n",
              "\n",
              "    [theme=dark] .colab-df-convert {\n",
              "      background-color: #3B4455;\n",
              "      fill: #D2E3FC;\n",
              "    }\n",
              "\n",
              "    [theme=dark] .colab-df-convert:hover {\n",
              "      background-color: #434B5C;\n",
              "      box-shadow: 0px 1px 3px 1px rgba(0, 0, 0, 0.15);\n",
              "      filter: drop-shadow(0px 1px 2px rgba(0, 0, 0, 0.3));\n",
              "      fill: #FFFFFF;\n",
              "    }\n",
              "  </style>\n",
              "\n",
              "      <script>\n",
              "        const buttonEl =\n",
              "          document.querySelector('#df-00ea17bd-b003-4f15-8c4a-ae86128848d0 button.colab-df-convert');\n",
              "        buttonEl.style.display =\n",
              "          google.colab.kernel.accessAllowed ? 'block' : 'none';\n",
              "\n",
              "        async function convertToInteractive(key) {\n",
              "          const element = document.querySelector('#df-00ea17bd-b003-4f15-8c4a-ae86128848d0');\n",
              "          const dataTable =\n",
              "            await google.colab.kernel.invokeFunction('convertToInteractive',\n",
              "                                                     [key], {});\n",
              "          if (!dataTable) return;\n",
              "\n",
              "          const docLinkHtml = 'Like what you see? Visit the ' +\n",
              "            '<a target=\"_blank\" href=https://colab.research.google.com/notebooks/data_table.ipynb>data table notebook</a>'\n",
              "            + ' to learn more about interactive tables.';\n",
              "          element.innerHTML = '';\n",
              "          dataTable['output_type'] = 'display_data';\n",
              "          await google.colab.output.renderOutput(dataTable, element);\n",
              "          const docLink = document.createElement('div');\n",
              "          docLink.innerHTML = docLinkHtml;\n",
              "          element.appendChild(docLink);\n",
              "        }\n",
              "      </script>\n",
              "    </div>\n",
              "  </div>\n",
              "  "
            ]
          },
          "metadata": {},
          "execution_count": 30
        }
      ]
    },
    {
      "cell_type": "code",
      "source": [
        "# Preprocess text\n",
        "def filter(text):\n",
        "    final_text = ''\n",
        "    for word in text.split():\n",
        "        if word.startswith('@'):\n",
        "            continue\n",
        "        elif word[-3:] in ['com', 'org']:\n",
        "            continue\n",
        "        elif word.startswith('pic') or word.startswith('http') or word.startswith('www'):\n",
        "            continue\n",
        "        else:\n",
        "            final_text += word+' '\n",
        "    return final_text\n",
        "\n",
        "df['text'] = df['text'].apply(filter)\n",
        "df"
      ],
      "metadata": {
        "id": "nemOweCER5WU",
        "colab": {
          "base_uri": "https://localhost:8080/",
          "height": 424
        },
        "outputId": "fb87518f-ae41-4a8f-ab78-86c365f78d1e"
      },
      "execution_count": 31,
      "outputs": [
        {
          "output_type": "execute_result",
          "data": {
            "text/plain": [
              "           id                                               text  label\n",
              "0     26418.0  Gerçekten sizin hikayelerinizi izleyerek mi ye...      0\n",
              "1     14473.0                 Çoook çok bi baklava bi sen zaten       0\n",
              "2     16107.0  1) Sn. DÜKEL; Atatürk'ün, Karma E. M. ile başl...      0\n",
              "3     45908.0  Konfederasyonumuzun Aile ve Sosyal Politikalar...      0\n",
              "4     12878.0  Hakemler tarih yazıyorlar / 9 kişiye karşı 3-2...      1\n",
              "...       ...                                                ...    ...\n",
              "1751  39603.0  Bu ödül sunan kızı kim giydirdiyse, kızın en b...      0\n",
              "1752  26675.0  Bunu sana beddua olarak etmiyorum bunlar ilerd...      0\n",
              "1753  17172.0  CHP'liler sandıkları bırakmıyor üstüne oturmuş...      1\n",
              "1754  42884.0      karanlığın içinde yalnız kalsam ne oluuuuurr       0\n",
              "1755  29184.0  Ne yalan söyleyeyim bu haftalıkta fitil olarak...      0\n",
              "\n",
              "[53005 rows x 3 columns]"
            ],
            "text/html": [
              "\n",
              "  <div id=\"df-914029be-52bc-41fe-b035-a3c12658ee95\">\n",
              "    <div class=\"colab-df-container\">\n",
              "      <div>\n",
              "<style scoped>\n",
              "    .dataframe tbody tr th:only-of-type {\n",
              "        vertical-align: middle;\n",
              "    }\n",
              "\n",
              "    .dataframe tbody tr th {\n",
              "        vertical-align: top;\n",
              "    }\n",
              "\n",
              "    .dataframe thead th {\n",
              "        text-align: right;\n",
              "    }\n",
              "</style>\n",
              "<table border=\"1\" class=\"dataframe\">\n",
              "  <thead>\n",
              "    <tr style=\"text-align: right;\">\n",
              "      <th></th>\n",
              "      <th>id</th>\n",
              "      <th>text</th>\n",
              "      <th>label</th>\n",
              "    </tr>\n",
              "  </thead>\n",
              "  <tbody>\n",
              "    <tr>\n",
              "      <th>0</th>\n",
              "      <td>26418.0</td>\n",
              "      <td>Gerçekten sizin hikayelerinizi izleyerek mi ye...</td>\n",
              "      <td>0</td>\n",
              "    </tr>\n",
              "    <tr>\n",
              "      <th>1</th>\n",
              "      <td>14473.0</td>\n",
              "      <td>Çoook çok bi baklava bi sen zaten</td>\n",
              "      <td>0</td>\n",
              "    </tr>\n",
              "    <tr>\n",
              "      <th>2</th>\n",
              "      <td>16107.0</td>\n",
              "      <td>1) Sn. DÜKEL; Atatürk'ün, Karma E. M. ile başl...</td>\n",
              "      <td>0</td>\n",
              "    </tr>\n",
              "    <tr>\n",
              "      <th>3</th>\n",
              "      <td>45908.0</td>\n",
              "      <td>Konfederasyonumuzun Aile ve Sosyal Politikalar...</td>\n",
              "      <td>0</td>\n",
              "    </tr>\n",
              "    <tr>\n",
              "      <th>4</th>\n",
              "      <td>12878.0</td>\n",
              "      <td>Hakemler tarih yazıyorlar / 9 kişiye karşı 3-2...</td>\n",
              "      <td>1</td>\n",
              "    </tr>\n",
              "    <tr>\n",
              "      <th>...</th>\n",
              "      <td>...</td>\n",
              "      <td>...</td>\n",
              "      <td>...</td>\n",
              "    </tr>\n",
              "    <tr>\n",
              "      <th>1751</th>\n",
              "      <td>39603.0</td>\n",
              "      <td>Bu ödül sunan kızı kim giydirdiyse, kızın en b...</td>\n",
              "      <td>0</td>\n",
              "    </tr>\n",
              "    <tr>\n",
              "      <th>1752</th>\n",
              "      <td>26675.0</td>\n",
              "      <td>Bunu sana beddua olarak etmiyorum bunlar ilerd...</td>\n",
              "      <td>0</td>\n",
              "    </tr>\n",
              "    <tr>\n",
              "      <th>1753</th>\n",
              "      <td>17172.0</td>\n",
              "      <td>CHP'liler sandıkları bırakmıyor üstüne oturmuş...</td>\n",
              "      <td>1</td>\n",
              "    </tr>\n",
              "    <tr>\n",
              "      <th>1754</th>\n",
              "      <td>42884.0</td>\n",
              "      <td>karanlığın içinde yalnız kalsam ne oluuuuurr</td>\n",
              "      <td>0</td>\n",
              "    </tr>\n",
              "    <tr>\n",
              "      <th>1755</th>\n",
              "      <td>29184.0</td>\n",
              "      <td>Ne yalan söyleyeyim bu haftalıkta fitil olarak...</td>\n",
              "      <td>0</td>\n",
              "    </tr>\n",
              "  </tbody>\n",
              "</table>\n",
              "<p>53005 rows × 3 columns</p>\n",
              "</div>\n",
              "      <button class=\"colab-df-convert\" onclick=\"convertToInteractive('df-914029be-52bc-41fe-b035-a3c12658ee95')\"\n",
              "              title=\"Convert this dataframe to an interactive table.\"\n",
              "              style=\"display:none;\">\n",
              "        \n",
              "  <svg xmlns=\"http://www.w3.org/2000/svg\" height=\"24px\"viewBox=\"0 0 24 24\"\n",
              "       width=\"24px\">\n",
              "    <path d=\"M0 0h24v24H0V0z\" fill=\"none\"/>\n",
              "    <path d=\"M18.56 5.44l.94 2.06.94-2.06 2.06-.94-2.06-.94-.94-2.06-.94 2.06-2.06.94zm-11 1L8.5 8.5l.94-2.06 2.06-.94-2.06-.94L8.5 2.5l-.94 2.06-2.06.94zm10 10l.94 2.06.94-2.06 2.06-.94-2.06-.94-.94-2.06-.94 2.06-2.06.94z\"/><path d=\"M17.41 7.96l-1.37-1.37c-.4-.4-.92-.59-1.43-.59-.52 0-1.04.2-1.43.59L10.3 9.45l-7.72 7.72c-.78.78-.78 2.05 0 2.83L4 21.41c.39.39.9.59 1.41.59.51 0 1.02-.2 1.41-.59l7.78-7.78 2.81-2.81c.8-.78.8-2.07 0-2.86zM5.41 20L4 18.59l7.72-7.72 1.47 1.35L5.41 20z\"/>\n",
              "  </svg>\n",
              "      </button>\n",
              "      \n",
              "  <style>\n",
              "    .colab-df-container {\n",
              "      display:flex;\n",
              "      flex-wrap:wrap;\n",
              "      gap: 12px;\n",
              "    }\n",
              "\n",
              "    .colab-df-convert {\n",
              "      background-color: #E8F0FE;\n",
              "      border: none;\n",
              "      border-radius: 50%;\n",
              "      cursor: pointer;\n",
              "      display: none;\n",
              "      fill: #1967D2;\n",
              "      height: 32px;\n",
              "      padding: 0 0 0 0;\n",
              "      width: 32px;\n",
              "    }\n",
              "\n",
              "    .colab-df-convert:hover {\n",
              "      background-color: #E2EBFA;\n",
              "      box-shadow: 0px 1px 2px rgba(60, 64, 67, 0.3), 0px 1px 3px 1px rgba(60, 64, 67, 0.15);\n",
              "      fill: #174EA6;\n",
              "    }\n",
              "\n",
              "    [theme=dark] .colab-df-convert {\n",
              "      background-color: #3B4455;\n",
              "      fill: #D2E3FC;\n",
              "    }\n",
              "\n",
              "    [theme=dark] .colab-df-convert:hover {\n",
              "      background-color: #434B5C;\n",
              "      box-shadow: 0px 1px 3px 1px rgba(0, 0, 0, 0.15);\n",
              "      filter: drop-shadow(0px 1px 2px rgba(0, 0, 0, 0.3));\n",
              "      fill: #FFFFFF;\n",
              "    }\n",
              "  </style>\n",
              "\n",
              "      <script>\n",
              "        const buttonEl =\n",
              "          document.querySelector('#df-914029be-52bc-41fe-b035-a3c12658ee95 button.colab-df-convert');\n",
              "        buttonEl.style.display =\n",
              "          google.colab.kernel.accessAllowed ? 'block' : 'none';\n",
              "\n",
              "        async function convertToInteractive(key) {\n",
              "          const element = document.querySelector('#df-914029be-52bc-41fe-b035-a3c12658ee95');\n",
              "          const dataTable =\n",
              "            await google.colab.kernel.invokeFunction('convertToInteractive',\n",
              "                                                     [key], {});\n",
              "          if (!dataTable) return;\n",
              "\n",
              "          const docLinkHtml = 'Like what you see? Visit the ' +\n",
              "            '<a target=\"_blank\" href=https://colab.research.google.com/notebooks/data_table.ipynb>data table notebook</a>'\n",
              "            + ' to learn more about interactive tables.';\n",
              "          element.innerHTML = '';\n",
              "          dataTable['output_type'] = 'display_data';\n",
              "          await google.colab.output.renderOutput(dataTable, element);\n",
              "          const docLink = document.createElement('div');\n",
              "          docLink.innerHTML = docLinkHtml;\n",
              "          element.appendChild(docLink);\n",
              "        }\n",
              "      </script>\n",
              "    </div>\n",
              "  </div>\n",
              "  "
            ]
          },
          "metadata": {},
          "execution_count": 31
        }
      ]
    },
    {
      "cell_type": "code",
      "source": [
        "# Plot the histogram of the labels\n",
        "df.label.hist()"
      ],
      "metadata": {
        "id": "Vh8RUuGAR5UD",
        "colab": {
          "base_uri": "https://localhost:8080/",
          "height": 448
        },
        "outputId": "331d5bb4-b401-4232-b80a-d1b6994f7cb9"
      },
      "execution_count": 32,
      "outputs": [
        {
          "output_type": "execute_result",
          "data": {
            "text/plain": [
              "<Axes: >"
            ]
          },
          "metadata": {},
          "execution_count": 32
        },
        {
          "output_type": "display_data",
          "data": {
            "text/plain": [
              "<Figure size 640x480 with 1 Axes>"
            ],
            "image/png": "[encoded data removed]"
          },
          "metadata": {}
        }
      ]
    },
    {
      "cell_type": "code",
      "source": [
        "# Shuffle dataset\n",
        "from sklearn.utils import shuffle\n",
        "df = shuffle(df)"
      ],
      "metadata": {
        "id": "JK03ndJ4R5Rr"
      },
      "execution_count": 33,
      "outputs": []
    },
    {
      "cell_type": "code",
      "source": [
        "# Split data into train, test, valid\n",
        "from sklearn.model_selection import train_test_split\n",
        "\n",
        "train_text, temp_text, train_labels, temp_labels = train_test_split(df['text'], df['label'],\n",
        "\t\t\t\t\t\t\t\t\t\t\t\t\t\t\t\t\trandom_state = 2021,\n",
        "\t\t\t\t\t\t\t\t\t\t\t\t\t\t\t\t\ttest_size = 0.2,\n",
        "\t\t\t\t\t\t\t\t\t\t\t\t\t\t\t\t\tstratify = df['label'])\n",
        "\n",
        "val_text, test_text, val_labels, test_labels = train_test_split(temp_text, temp_labels,\n",
        "\t\t\t\t\t\t\t\t\t\t\t\t\t\t\t\trandom_state = 2021,\n",
        "\t\t\t\t\t\t\t\t\t\t\t\t\t\t\t\ttest_size = 0.5,\n",
        "\t\t\t\t\t\t\t\t\t\t\t\t\t\t\t\tstratify = temp_labels)"
      ],
      "metadata": {
        "id": "BXQOt-TTR5PU"
      },
      "execution_count": 34,
      "outputs": []
    },
    {
      "cell_type": "code",
      "source": [
        "# Import pretrained tokenizer and model from https://huggingface.co/YSKartal/bert-base-turkish-cased-turkish_offensive_trained_model\n",
        "tokenizer = AutoTokenizer.from_pretrained(\"YSKartal/bert-base-turkish-cased-turkish_offensive_trained_model\")\n",
        "bert = AutoModel.from_pretrained(\"YSKartal/bert-base-turkish-cased-turkish_offensive_trained_model\",return_dict=False, from_tf=True)"
      ],
      "metadata": {
        "id": "MXXKaVClR5M1",
        "colab": {
          "base_uri": "https://localhost:8080/"
        },
        "outputId": "e4004187-7183-4244-d108-cb9a72b6bf37"
      },
      "execution_count": 35,
      "outputs": [
        {
          "output_type": "stream",
          "name": "stderr",
          "text": [
            "All TF 2.0 model weights were used when initializing BertModel.\n",
            "\n",
            "All the weights of BertModel were initialized from the TF 2.0 model.\n",
            "If your task is similar to the task the model of the checkpoint was trained on, you can already use BertModel for predictions without further training.\n"
          ]
        }
      ]
    },
    {
      "cell_type": "code",
      "source": [
        "# tokenize and encode sequences in the training set\n",
        "tokens_train = tokenizer.batch_encode_plus(\n",
        "    train_text.tolist(),\n",
        "    pad_to_max_length=True,\n",
        "    truncation=True,\n",
        "    return_token_type_ids=False\n",
        ")\n",
        "\n",
        "# tokenize and encode sequences in the validation set\n",
        "tokens_val = tokenizer.batch_encode_plus(\n",
        "    val_text.tolist(),\n",
        "    pad_to_max_length=True,\n",
        "    truncation=True,\n",
        "    return_token_type_ids=False\n",
        ")\n",
        "\n",
        "# tokenize and encode sequences in the test set\n",
        "tokens_test = tokenizer.batch_encode_plus(\n",
        "    test_text.tolist(),\n",
        "    pad_to_max_length=True,\n",
        "    truncation=True,\n",
        "    return_token_type_ids=False\n",
        ")"
      ],
      "metadata": {
        "id": "l2djJlqwR5Kf",
        "colab": {
          "base_uri": "https://localhost:8080/"
        },
        "outputId": "30033403-9996-4665-bf5f-cc308dd2c919"
      },
      "execution_count": 36,
      "outputs": [
        {
          "output_type": "stream",
          "name": "stderr",
          "text": [
            "/usr/local/lib/python3.9/dist-packages/transformers/tokenization_utils_base.py:2354: FutureWarning: The `pad_to_max_length` argument is deprecated and will be removed in a future version, use `padding=True` or `padding='longest'` to pad to the longest sequence in the batch, or use `padding='max_length'` to pad to a max length. In this case, you can give a specific length with `max_length` (e.g. `max_length=45`) or leave max_length to None to pad to the maximal input size of the model (e.g. 512 for Bert).\n",
            "  warnings.warn(\n"
          ]
        }
      ]
    },
    {
      "cell_type": "code",
      "source": [
        "# for train set\n",
        "train_seq = torch.tensor(tokens_train['input_ids'])\n",
        "train_mask = torch.tensor(tokens_train['attention_mask'])\n",
        "train_y = torch.tensor(train_labels.tolist())\n",
        "\n",
        "# for validation set\n",
        "val_seq = torch.tensor(tokens_val['input_ids'])\n",
        "val_mask = torch.tensor(tokens_val['attention_mask'])\n",
        "val_y = torch.tensor(val_labels.tolist())\n",
        "\n",
        "# for test set\n",
        "test_seq = torch.tensor(tokens_test['input_ids'])\n",
        "test_mask = torch.tensor(tokens_test['attention_mask'])\n",
        "test_y = torch.tensor(test_labels.tolist())"
      ],
      "metadata": {
        "id": "7kBl4zaKR5IA"
      },
      "execution_count": 37,
      "outputs": []
    },
    {
      "cell_type": "code",
      "source": [
        "#### Create DataLoaders\n",
        "from torch.utils.data import TensorDataset, DataLoader, RandomSampler, SequentialSampler\n",
        "\n",
        "#define a batch size\n",
        "batch_size = 32\n",
        "\n",
        "# wrap tensors\n",
        "train_data = TensorDataset(train_seq, train_mask, train_y)\n",
        "\n",
        "# sampler for sampling the data during training\n",
        "train_sampler = RandomSampler(train_data)\n",
        "\n",
        "# dataLoader for train set\n",
        "train_dataloader = DataLoader(train_data, sampler=train_sampler, batch_size=batch_size)\n",
        "\n",
        "# wrap tensors\n",
        "val_data = TensorDataset(val_seq, val_mask, val_y)\n",
        "\n",
        "# sampler for sampling the data during training\n",
        "val_sampler = SequentialSampler(val_data)\n",
        "\n",
        "# dataLoader for validation set\n",
        "val_dataloader = DataLoader(val_data, sampler = val_sampler, batch_size=batch_size)"
      ],
      "metadata": {
        "id": "6N2lgqx2R49b"
      },
      "execution_count": 38,
      "outputs": []
    },
    {
      "cell_type": "markdown",
      "source": [
        "### Freeze Model parameters and Define Model Architecture"
      ],
      "metadata": {
        "id": "Q4vxlQybTo7e"
      }
    },
    {
      "cell_type": "code",
      "source": [
        "# freeze all the parameters\n",
        "for param in bert.parameters():\n",
        "    param.requires_grad = False"
      ],
      "metadata": {
        "id": "GxxGaIPCTmbd"
      },
      "execution_count": 39,
      "outputs": []
    },
    {
      "cell_type": "code",
      "source": [
        "class BERT_Arch(nn.Module):\n",
        "\n",
        "    def __init__(self, bert):\n",
        "      \n",
        "      super(BERT_Arch, self).__init__()\n",
        "\n",
        "      self.bert = bert \n",
        "      \n",
        "      # dropout layer\n",
        "      self.dropout = nn.Dropout(0.1)\n",
        "      \n",
        "      # relu activation function\n",
        "      self.relu =  nn.ReLU()\n",
        "\n",
        "      # dense layer 1\n",
        "      self.fc1 = nn.Linear(768,512)\n",
        "\n",
        "      # dense layer 3 (Output layer)\n",
        "      self.fc3 = nn.Linear(512,2)\n",
        "\n",
        "      #softmax activation function\n",
        "      self.softmax = nn.LogSoftmax(dim=1)\n",
        "\n",
        "    #define the forward pass\n",
        "    def forward(self, sent_id, mask):\n",
        "\n",
        "      #pass the inputs to the model  \n",
        "      _, cls_hs = self.bert(sent_id, attention_mask=mask, return_dict=False)\n",
        "\n",
        "      x = self.fc1(cls_hs)\n",
        "\n",
        "      x = self.relu(x)\n",
        "\n",
        "      x = self.dropout(x)\n",
        "\n",
        "      # output layer\n",
        "      x = self.fc3(x)\n",
        "\n",
        "      # apply softmax activation\n",
        "      x = self.softmax(x)\n",
        "\n",
        "      return x"
      ],
      "metadata": {
        "id": "C3paGT3bTrV4"
      },
      "execution_count": 40,
      "outputs": []
    },
    {
      "cell_type": "code",
      "source": [
        "# pass the pre-trained BERT to our define architecture\n",
        "model = BERT_Arch(bert)\n",
        "\n",
        "# push the model to GPU\n",
        "model = model.to(device)"
      ],
      "metadata": {
        "id": "E5-BtK-aT489"
      },
      "execution_count": 41,
      "outputs": []
    },
    {
      "cell_type": "code",
      "source": [
        "# optimizer from hugging face transformers\n",
        "from transformers import AdamW\n",
        "\n",
        "# define the optimizer\n",
        "optimizer = AdamW(model.parameters(), lr = 0.0001)"
      ],
      "metadata": {
        "id": "WCPvGyq8T6wF",
        "colab": {
          "base_uri": "https://localhost:8080/"
        },
        "outputId": "880aca0a-1241-47b2-9472-99700302a3f0"
      },
      "execution_count": 42,
      "outputs": [
        {
          "output_type": "stream",
          "name": "stderr",
          "text": [
            "/usr/local/lib/python3.9/dist-packages/transformers/optimization.py:391: FutureWarning: This implementation of AdamW is deprecated and will be removed in a future version. Use the PyTorch implementation torch.optim.AdamW instead, or set `no_deprecation_warning=True` to disable this warning\n",
            "  warnings.warn(\n"
          ]
        }
      ]
    },
    {
      "cell_type": "markdown",
      "source": [
        "### Find Class Weights"
      ],
      "metadata": {
        "id": "4e3HM0mrUJFZ"
      }
    },
    {
      "cell_type": "code",
      "source": [
        "from sklearn.utils.class_weight import compute_class_weight\n",
        "\n",
        "#compute the class weights\n",
        "class_wts = compute_class_weight('balanced', classes=np.unique(train_labels), y=train_labels)\n",
        "\n",
        "print(class_wts)"
      ],
      "metadata": {
        "id": "2U6woe9uUHTG",
        "colab": {
          "base_uri": "https://localhost:8080/"
        },
        "outputId": "dbb1d896-85e8-4048-a642-ac9688323302"
      },
      "execution_count": 43,
      "outputs": [
        {
          "output_type": "stream",
          "name": "stdout",
          "text": [
            "[0.93228388 1.07832367]\n"
          ]
        }
      ]
    },
    {
      "cell_type": "code",
      "source": [
        "# convert class weights to tensor\n",
        "weights= torch.tensor(class_wts,dtype=torch.float)\n",
        "weights = weights.to(device)\n",
        "\n",
        "# loss function\n",
        "cross_entropy  = nn.CrossEntropyLoss(weight=weights) \n",
        "\n",
        "# number of training epochs\n",
        "epochs = 5"
      ],
      "metadata": {
        "id": "LXlJjkyeULZh"
      },
      "execution_count": 44,
      "outputs": []
    },
    {
      "cell_type": "markdown",
      "source": [
        "### Fine Tuning"
      ],
      "metadata": {
        "id": "IIGsiXayUOO0"
      }
    },
    {
      "cell_type": "code",
      "source": [
        "# function to train the model\n",
        "def train():\n",
        "  \n",
        "  model.train()\n",
        "\n",
        "  total_loss, total_accuracy = 0, 0\n",
        "  \n",
        "  # empty list to save model predictions\n",
        "  total_preds=[]\n",
        "  \n",
        "  # iterate over batches\n",
        "  for step,batch in enumerate(train_dataloader):\n",
        "    \n",
        "    # progress update after every 50 batches.\n",
        "    if step % 50 == 0 and not step == 0:\n",
        "      print('  Batch {:>5,}  of  {:>5,}.'.format(step, len(train_dataloader)))\n",
        "\n",
        "    # push the batch to gpu\n",
        "    batch = [r.to(device) for r in batch]\n",
        " \n",
        "    sent_id, mask, labels = batch\n",
        "\n",
        "    # clear previously calculated gradients \n",
        "    model.zero_grad()        \n",
        "\n",
        "    # get model predictions for the current batch\n",
        "    preds = model(sent_id, mask)\n",
        "\n",
        "    # compute the loss between actual and predicted values\n",
        "    loss = cross_entropy(preds, labels)\n",
        "\n",
        "    # add on to the total loss\n",
        "    total_loss = total_loss + loss.item()\n",
        "\n",
        "    # backward pass to calculate the gradients\n",
        "    loss.backward()\n",
        "\n",
        "    # clip the the gradients to 1.0. It helps in preventing the exploding gradient problem\n",
        "    torch.nn.utils.clip_grad_norm_(model.parameters(), 1.0)\n",
        "\n",
        "    # update parameters\n",
        "    optimizer.step()\n",
        "\n",
        "    # model predictions are stored on GPU. So, push it to CPU\n",
        "    preds=preds.detach().cpu().numpy()\n",
        "\n",
        "    # append the model predictions\n",
        "    total_preds.append(preds)\n",
        "\n",
        "  # compute the training loss of the epoch\n",
        "  avg_loss = total_loss / len(train_dataloader)\n",
        "  \n",
        "  # predictions are in the form of (no. of batches, size of batch, no. of classes).\n",
        "  # reshape the predictions in form of (number of samples, no. of classes)\n",
        "  total_preds  = np.concatenate(total_preds, axis=0)\n",
        "\n",
        "  #returns the loss and predictions\n",
        "  return avg_loss, total_preds"
      ],
      "metadata": {
        "id": "e6SPOg7jUMhV"
      },
      "execution_count": 45,
      "outputs": []
    },
    {
      "cell_type": "code",
      "source": [
        "# function for evaluating the model\n",
        "def evaluate():\n",
        "  \n",
        "  print(\"\\nEvaluating...\")\n",
        "  \n",
        "  # deactivate dropout layers\n",
        "  model.eval()\n",
        "\n",
        "  total_loss, total_accuracy = 0, 0\n",
        "  \n",
        "  # empty list to save the model predictions\n",
        "  total_preds = []\n",
        "\n",
        "  # iterate over batches\n",
        "  for step,batch in enumerate(val_dataloader):\n",
        "    \n",
        "    # Progress update every 50 batches.\n",
        "    if step % 50 == 0 and not step == 0:\n",
        "      \n",
        "      # Calculate elapsed time in minutes.\n",
        "      #elapsed = format_time(time.time() - t0)\n",
        "            \n",
        "      # Report progress.\n",
        "      print('  Batch {:>5,}  of  {:>5,}.'.format(step, len(val_dataloader)))\n",
        "\n",
        "    # push the batch to gpu\n",
        "    batch = [t.to(device) for t in batch]\n",
        "\n",
        "    sent_id, mask, labels = batch\n",
        "\n",
        "    # deactivate autograd\n",
        "    with torch.no_grad():\n",
        "      \n",
        "      # model predictions\n",
        "      preds = model(sent_id, mask)\n",
        "\n",
        "      # compute the validation loss between actual and predicted values\n",
        "      loss = cross_entropy(preds,labels)\n",
        "\n",
        "      total_loss = total_loss + loss.item()\n",
        "\n",
        "      preds = preds.detach().cpu().numpy()\n",
        "\n",
        "      total_preds.append(preds)\n",
        "\n",
        "  # compute the validation loss of the epoch\n",
        "  avg_loss = total_loss / len(val_dataloader) \n",
        "\n",
        "  # reshape the predictions in form of (number of samples, no. of classes)\n",
        "  total_preds  = np.concatenate(total_preds, axis=0)\n",
        "\n",
        "  return avg_loss, total_preds"
      ],
      "metadata": {
        "id": "QxAr4kN0UP6G"
      },
      "execution_count": 46,
      "outputs": []
    },
    {
      "cell_type": "code",
      "source": [
        "# Define Early Stopping Function\n",
        "def early_stopping(train_loss, validation_loss, min_delta, tolerance):\n",
        "\n",
        "    counter = 0\n",
        "    if (validation_loss - train_loss) > min_delta:\n",
        "        counter +=1\n",
        "        if counter >= tolerance:\n",
        "          return True"
      ],
      "metadata": {
        "id": "hFjjlazNURJP"
      },
      "execution_count": 47,
      "outputs": []
    },
    {
      "cell_type": "markdown",
      "source": [
        "### Start Training"
      ],
      "metadata": {
        "id": "kd2RibKrUUNc"
      }
    },
    {
      "cell_type": "code",
      "source": [
        "# set initial loss to infinite\n",
        "best_valid_loss = float('inf')\n",
        "\n",
        "# empty lists to store training and validation loss of each epoch\n",
        "train_losses=[]\n",
        "valid_losses=[]\n",
        "\n",
        "#for each epoch\n",
        "for epoch in range(epochs):\n",
        "     \n",
        "    print('\\n Epoch {:} / {:}'.format(epoch + 1, epochs))\n",
        "    \n",
        "    # Train the model\n",
        "    train_loss, _ = train()\n",
        "    \n",
        "    # Evaluate model\n",
        "    valid_loss, _ = evaluate()\n",
        "\n",
        "    # Save the best model\n",
        "    if valid_loss < best_valid_loss:\n",
        "        best_valid_loss = valid_loss\n",
        "        torch.save(model.state_dict(), '/content/drive/MyDrive/turkish_offensive_language.pt')\n",
        "    \n",
        "    # Append training and validation loss\n",
        "    train_losses.append(train_loss)\n",
        "    valid_losses.append(valid_loss)\n",
        "    \n",
        "    print(f'\\nTraining Loss: {train_loss:.3f}')\n",
        "    print(f'Validation Loss: {valid_loss:.3f}')\n",
        "\n",
        "    # Early stopping\n",
        "    if early_stopping(train_loss, valid_loss, min_delta=10, tolerance = 20):\n",
        "      print(\"We are at epoch:\", epoch)\n",
        "      break"
      ],
      "metadata": {
        "id": "YOEhKnQUUSYp",
        "colab": {
          "base_uri": "https://localhost:8080/"
        },
        "outputId": "e8119f29-bf8c-4f15-c280-d5093c3ba666"
      },
      "execution_count": 48,
      "outputs": [
        {
          "output_type": "stream",
          "name": "stdout",
          "text": [
            "\n",
            " Epoch 1 / 5\n",
            "  Batch    50  of  1,326.\n",
            "  Batch   100  of  1,326.\n",
            "  Batch   150  of  1,326.\n",
            "  Batch   200  of  1,326.\n",
            "  Batch   250  of  1,326.\n",
            "  Batch   300  of  1,326.\n",
            "  Batch   350  of  1,326.\n",
            "  Batch   400  of  1,326.\n",
            "  Batch   450  of  1,326.\n",
            "  Batch   500  of  1,326.\n",
            "  Batch   550  of  1,326.\n",
            "  Batch   600  of  1,326.\n",
            "  Batch   650  of  1,326.\n",
            "  Batch   700  of  1,326.\n",
            "  Batch   750  of  1,326.\n",
            "  Batch   800  of  1,326.\n",
            "  Batch   850  of  1,326.\n",
            "  Batch   900  of  1,326.\n",
            "  Batch   950  of  1,326.\n",
            "  Batch 1,000  of  1,326.\n",
            "  Batch 1,050  of  1,326.\n",
            "  Batch 1,100  of  1,326.\n",
            "  Batch 1,150  of  1,326.\n",
            "  Batch 1,200  of  1,326.\n",
            "  Batch 1,250  of  1,326.\n",
            "  Batch 1,300  of  1,326.\n",
            "\n",
            "Evaluating...\n",
            "  Batch    50  of    166.\n",
            "  Batch   100  of    166.\n",
            "  Batch   150  of    166.\n",
            "\n",
            "Training Loss: 0.098\n",
            "Validation Loss: 0.079\n",
            "\n",
            " Epoch 2 / 5\n",
            "  Batch    50  of  1,326.\n",
            "  Batch   100  of  1,326.\n",
            "  Batch   150  of  1,326.\n",
            "  Batch   200  of  1,326.\n",
            "  Batch   250  of  1,326.\n",
            "  Batch   300  of  1,326.\n",
            "  Batch   350  of  1,326.\n",
            "  Batch   400  of  1,326.\n",
            "  Batch   450  of  1,326.\n",
            "  Batch   500  of  1,326.\n",
            "  Batch   550  of  1,326.\n",
            "  Batch   600  of  1,326.\n",
            "  Batch   650  of  1,326.\n",
            "  Batch   700  of  1,326.\n",
            "  Batch   750  of  1,326.\n",
            "  Batch   800  of  1,326.\n",
            "  Batch   850  of  1,326.\n",
            "  Batch   900  of  1,326.\n",
            "  Batch   950  of  1,326.\n",
            "  Batch 1,000  of  1,326.\n",
            "  Batch 1,050  of  1,326.\n",
            "  Batch 1,100  of  1,326.\n",
            "  Batch 1,150  of  1,326.\n",
            "  Batch 1,200  of  1,326.\n",
            "  Batch 1,250  of  1,326.\n",
            "  Batch 1,300  of  1,326.\n",
            "\n",
            "Evaluating...\n",
            "  Batch    50  of    166.\n",
            "  Batch   100  of    166.\n",
            "  Batch   150  of    166.\n",
            "\n",
            "Training Loss: 0.093\n",
            "Validation Loss: 0.084\n",
            "\n",
            " Epoch 3 / 5\n",
            "  Batch    50  of  1,326.\n",
            "  Batch   100  of  1,326.\n",
            "  Batch   150  of  1,326.\n",
            "  Batch   200  of  1,326.\n",
            "  Batch   250  of  1,326.\n",
            "  Batch   300  of  1,326.\n",
            "  Batch   350  of  1,326.\n",
            "  Batch   400  of  1,326.\n",
            "  Batch   450  of  1,326.\n",
            "  Batch   500  of  1,326.\n",
            "  Batch   550  of  1,326.\n",
            "  Batch   600  of  1,326.\n",
            "  Batch   650  of  1,326.\n",
            "  Batch   700  of  1,326.\n",
            "  Batch   750  of  1,326.\n",
            "  Batch   800  of  1,326.\n",
            "  Batch   850  of  1,326.\n",
            "  Batch   900  of  1,326.\n",
            "  Batch   950  of  1,326.\n",
            "  Batch 1,000  of  1,326.\n",
            "  Batch 1,050  of  1,326.\n",
            "  Batch 1,100  of  1,326.\n",
            "  Batch 1,150  of  1,326.\n",
            "  Batch 1,200  of  1,326.\n",
            "  Batch 1,250  of  1,326.\n",
            "  Batch 1,300  of  1,326.\n",
            "\n",
            "Evaluating...\n",
            "  Batch    50  of    166.\n",
            "  Batch   100  of    166.\n",
            "  Batch   150  of    166.\n",
            "\n",
            "Training Loss: 0.092\n",
            "Validation Loss: 0.079\n",
            "\n",
            " Epoch 4 / 5\n",
            "  Batch    50  of  1,326.\n",
            "  Batch   100  of  1,326.\n",
            "  Batch   150  of  1,326.\n",
            "  Batch   200  of  1,326.\n",
            "  Batch   250  of  1,326.\n",
            "  Batch   300  of  1,326.\n",
            "  Batch   350  of  1,326.\n",
            "  Batch   400  of  1,326.\n",
            "  Batch   450  of  1,326.\n",
            "  Batch   500  of  1,326.\n",
            "  Batch   550  of  1,326.\n",
            "  Batch   600  of  1,326.\n",
            "  Batch   650  of  1,326.\n",
            "  Batch   700  of  1,326.\n",
            "  Batch   750  of  1,326.\n",
            "  Batch   800  of  1,326.\n",
            "  Batch   850  of  1,326.\n",
            "  Batch   900  of  1,326.\n",
            "  Batch   950  of  1,326.\n",
            "  Batch 1,000  of  1,326.\n",
            "  Batch 1,050  of  1,326.\n",
            "  Batch 1,100  of  1,326.\n",
            "  Batch 1,150  of  1,326.\n",
            "  Batch 1,200  of  1,326.\n",
            "  Batch 1,250  of  1,326.\n",
            "  Batch 1,300  of  1,326.\n",
            "\n",
            "Evaluating...\n",
            "  Batch    50  of    166.\n",
            "  Batch   100  of    166.\n",
            "  Batch   150  of    166.\n",
            "\n",
            "Training Loss: 0.090\n",
            "Validation Loss: 0.074\n",
            "\n",
            " Epoch 5 / 5\n",
            "  Batch    50  of  1,326.\n",
            "  Batch   100  of  1,326.\n",
            "  Batch   150  of  1,326.\n",
            "  Batch   200  of  1,326.\n",
            "  Batch   250  of  1,326.\n",
            "  Batch   300  of  1,326.\n",
            "  Batch   350  of  1,326.\n",
            "  Batch   400  of  1,326.\n",
            "  Batch   450  of  1,326.\n",
            "  Batch   500  of  1,326.\n",
            "  Batch   550  of  1,326.\n",
            "  Batch   600  of  1,326.\n",
            "  Batch   650  of  1,326.\n",
            "  Batch   700  of  1,326.\n",
            "  Batch   750  of  1,326.\n",
            "  Batch   800  of  1,326.\n",
            "  Batch   850  of  1,326.\n",
            "  Batch   900  of  1,326.\n",
            "  Batch   950  of  1,326.\n",
            "  Batch 1,000  of  1,326.\n",
            "  Batch 1,050  of  1,326.\n",
            "  Batch 1,100  of  1,326.\n",
            "  Batch 1,150  of  1,326.\n",
            "  Batch 1,200  of  1,326.\n",
            "  Batch 1,250  of  1,326.\n",
            "  Batch 1,300  of  1,326.\n",
            "\n",
            "Evaluating...\n",
            "  Batch    50  of    166.\n",
            "  Batch   100  of    166.\n",
            "  Batch   150  of    166.\n",
            "\n",
            "Training Loss: 0.088\n",
            "Validation Loss: 0.080\n"
          ]
        }
      ]
    },
    {
      "cell_type": "code",
      "source": [
        "import matplotlib.pyplot as plt\n",
        "\n",
        "plt.plot(train_losses, color='r')\n",
        "plt.plot(valid_losses, color='g')"
      ],
      "metadata": {
        "id": "-2DVQUcCUZC7",
        "colab": {
          "base_uri": "https://localhost:8080/",
          "height": 448
        },
        "outputId": "eda7c057-ce00-4393-e4f2-fb9833777069"
      },
      "execution_count": 49,
      "outputs": [
        {
          "output_type": "execute_result",
          "data": {
            "text/plain": [
              "[<matplotlib.lines.Line2D at 0x7f807740ca90>]"
            ]
          },
          "metadata": {},
          "execution_count": 49
        },
        {
          "output_type": "display_data",
          "data": {
            "text/plain": [
              "<Figure size 640x480 with 1 Axes>"
            ],
            "image/png": "[encoded data removed]"
          },
          "metadata": {}
        }
      ]
    }
  ]
}